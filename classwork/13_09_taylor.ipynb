{
 "cells": [
  {
   "cell_type": "markdown",
   "id": "3d15b231",
   "metadata": {},
   "source": [
    "Гиперболический косинус от x: ch(x)"
   ]
  },
  {
   "cell_type": "code",
   "execution_count": null,
   "id": "d8f3ed62",
   "metadata": {
    "vscode": {
     "languageId": "plaintext"
    }
   },
   "outputs": [],
   "source": [
    "import math\n",
    "from typing import Generator\n",
    "\n",
    "\n",
    "def ch_taylor_gen(x: float) -> Generator[float, None, None]:\n",
    "    term = 1.0\n",
    "    n = 0\n",
    "    yield term\n",
    "\n",
    "    while True:\n",
    "        n += 2\n",
    "        term = term * x * x / (n * (n - 1))\n",
    "        yield term\n",
    "\n",
    "\n",
    "def cosh_taylor(x: float, eps: float = 1e-3) -> float:\n",
    "    assert isinstance(x, float), \"Incorrect input type value\"\n",
    "    gen = ch_taylor_gen(x)\n",
    "    iter_gen = iter(gen)\n",
    "    sum_ = next(iter_gen)\n",
    "    while abs(term := next(iter_gen)) > eps:\n",
    "        sum_ += term\n",
    "    return sum_\n"
   ]
  },
  {
   "cell_type": "markdown",
   "id": "eb973109",
   "metadata": {},
   "source": [
    "2-ой вариант"
   ]
  },
  {
   "cell_type": "code",
   "execution_count": null,
   "id": "f944887a",
   "metadata": {
    "vscode": {
     "languageId": "plaintext"
    }
   },
   "outputs": [],
   "source": [
    "import math\n",
    "from typing import Generator\n",
    "\n",
    "\n",
    "def ch_taylor_gen(x: float) -> Generator[float, None, None]:\n",
    "    term = 1.0\n",
    "    sum_ = 1.0\n",
    "    n = 0\n",
    "    yield sum_\n",
    "\n",
    "    while True:\n",
    "        n += 2\n",
    "        term = term * x * x / (n * (n - 1))\n",
    "        sum_ += term\n",
    "        yield sum_\n",
    "\n",
    "\n",
    "def cosh_taylor(x: float, eps: float = 1e-3) -> float:\n",
    "    assert isinstance(x, float), \"Incorrect input type value\"\n",
    "    gen = ch_taylor_gen(x)\n",
    "    iter_gen = iter(gen)\n",
    "    sum_ = next(iter_gen)\n",
    "    prev_sum = 0\n",
    "    while abs(prev_sum - sum_) > eps:\n",
    "        prev_sum = sum_\n",
    "        sum_ = next(iter_gen)\n",
    "    return sum_\n",
    "\n"
   ]
  },
  {
   "cell_type": "markdown",
   "id": "5fcafb03",
   "metadata": {},
   "source": [
    "Производная"
   ]
  },
  {
   "cell_type": "code",
   "execution_count": null,
   "id": "7ae5254f",
   "metadata": {
    "vscode": {
     "languageId": "plaintext"
    }
   },
   "outputs": [],
   "source": [
    "from typing import Callable\n",
    "\n",
    "\n",
    "def grad(f: Callable[[float], float], eps: float = 1e-4) -> Callable[[float], float]:\n",
    "    def derivative_func(x: float) -> float:\n",
    "        return (f(x + eps) - f(x - eps)) / (2 * eps)\n",
    "\n",
    "    return derivative_func\n",
    "\n",
    "\n",
    "def foo(x: float) -> float:\n",
    "    return x**2 + 0.5\n",
    "\n",
    "\n",
    "derivative = grad(f=foo, eps=0.1)\n",
    "result: float = derivative(2.0)\n",
    "print(result)\n"
   ]
  }
 ],
 "metadata": {
  "language_info": {
   "name": "python"
  }
 },
 "nbformat": 4,
 "nbformat_minor": 5
}
