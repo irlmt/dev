{
 "cells": [
  {
   "cell_type": "markdown",
   "id": "3d15b231",
   "metadata": {},
   "source": [
    "Гиперболический косинус от x: ch(x)"
   ]
  },
  {
   "cell_type": "code",
   "execution_count": null,
   "id": "d8f3ed62",
   "metadata": {
    "vscode": {
     "languageId": "plaintext"
    }
   },
   "outputs": [],
   "source": [
    "import math\n",
    "from typing import Generator\n",
    "\n",
    "\n",
    "def ch_taylor_gen(x: float) -> Generator[float, None, None]:\n",
    "    term = 1.0\n",
    "    n = 0\n",
    "    yield term\n",
    "\n",
    "    while True:\n",
    "        n += 2\n",
    "        term = term * x * x / (n * (n - 1))\n",
    "        yield term\n",
    "\n",
    "\n",
    "def cosh_taylor(x: float, eps: float = 1e-3) -> float:\n",
    "    assert isinstance(x, float), \"Incorrect input type value\"\n",
    "    gen = ch_taylor_gen(x)\n",
    "    iter_gen = iter(gen)\n",
    "    sum_ = next(iter_gen)\n",
    "    while abs(term := next(iter_gen)) > eps:\n",
    "        sum_ += term\n",
    "    return sum_\n"
   ]
  }
 ],
 "metadata": {
  "language_info": {
   "name": "python"
  }
 },
 "nbformat": 4,
 "nbformat_minor": 5
}
