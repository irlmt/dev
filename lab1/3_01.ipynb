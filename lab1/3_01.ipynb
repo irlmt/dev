{
 "cells": [
  {
   "cell_type": "markdown",
   "id": "479b9c4d",
   "metadata": {},
   "source": [
    "Задание 1.1"
   ]
  },
  {
   "cell_type": "code",
   "execution_count": null,
   "id": "658d1992",
   "metadata": {},
   "outputs": [
    {
     "name": "stdout",
     "output_type": "stream",
     "text": [
      "Incorrect input value, mark must be between 0 and 100\n"
     ]
    }
   ],
   "source": [
    "def foo(mark: int) -> str:\n",
    "    assert isinstance(mark, int), f\"Incorrect input value, {mark} of type {type(mark)}\"\n",
    "    assert 0 <= mark <= 100, \"Incorrect input value, mark must be between 0 and 100\"\n",
    "    if 90 <= mark <= 100:\n",
    "        return \"A\"\n",
    "    elif 80 <= mark <= 89:\n",
    "        return \"B\"\n",
    "    elif 70 <= mark <= 79:\n",
    "        return \"C\"\n",
    "    elif 60 <= mark <= 69:\n",
    "        return \"D\"\n",
    "    else:\n",
    "        return \"F\"\n"
   ]
  },
  {
   "cell_type": "markdown",
   "id": "d2014976",
   "metadata": {},
   "source": [
    "Задание 1.2"
   ]
  },
  {
   "cell_type": "code",
   "execution_count": null,
   "id": "2a2573ea",
   "metadata": {},
   "outputs": [],
   "source": [
    "def foo(year: int) -> str:\n",
    "    assert isinstance(year, int), f\"Incorrect input value, {year} of type {type(year)}\"\n",
    "    assert year > 0, f\"Incorrect input value, year must be over 0\"\n",
    "    if (year % 4 == 0 and year % 100 != 0) or year % 400 == 0:\n",
    "        return \"YES\"\n",
    "    else:\n",
    "        return \"NO\"\n"
   ]
  },
  {
   "cell_type": "markdown",
   "id": "34533ea9",
   "metadata": {},
   "source": [
    "Задание 1.3"
   ]
  },
  {
   "cell_type": "code",
   "execution_count": null,
   "id": "c6c9c2f5",
   "metadata": {},
   "outputs": [],
   "source": [
    "def foo(a: int, b: int, c: int) -> str:\n",
    "    assert (\n",
    "        isinstance(a, int) and isinstance(b, int) and isinstance(c, int)\n",
    "    ), f\"Incorrect input value, {a}, {b}, {c} of type {type(a)}, {type(b)}, {type(c)}\"\n",
    "    assert (\n",
    "        a > 0 and b > 0 and c > 0\n",
    "    ), f\"Incorrect input value, sides length must be over 0\"\n",
    "    if a + b < c or a + c < b or b + c < a:\n",
    "        return \"Не является треугольником\"\n",
    "    elif a == b == c:\n",
    "        return \"Равносторонний\"\n",
    "    elif a == b or b == c or a == c:\n",
    "        return \"Равнобедренный\"\n",
    "    else:\n",
    "        return \"Разносторонний\"\n"
   ]
  },
  {
   "cell_type": "markdown",
   "id": "ec810ce5",
   "metadata": {},
   "source": [
    "Задание 2.1"
   ]
  },
  {
   "cell_type": "code",
   "execution_count": null,
   "id": "bca3bab8",
   "metadata": {},
   "outputs": [],
   "source": [
    "for i in range(1, 11):\n",
    "    print(f\"умножение на {i}\")\n",
    "    for j in range(1, 11):\n",
    "        print(f\"{i} * {j} = {i*j}\")"
   ]
  },
  {
   "cell_type": "markdown",
   "id": "e06b63a0",
   "metadata": {},
   "source": [
    "Задание 2.2"
   ]
  },
  {
   "cell_type": "code",
   "execution_count": null,
   "id": "37bbdf10",
   "metadata": {},
   "outputs": [],
   "source": [
    "def is_prime(n: int) -> bool:\n",
    "    assert isinstance(n, int), f\"Incorrect input value, {n} of type {type(n)}\"\n",
    "    assert n >= 2, \"Incorrect input value, n must be more then 1\"\n",
    "    if n < 2:\n",
    "        return False\n",
    "    if n == 2:\n",
    "        return True\n",
    "    if n % 2 == 0:\n",
    "        return False\n",
    "\n",
    "    for i in range(3, int(n**0.5) + 1, 2):\n",
    "        if n % i == 0:\n",
    "            return False\n",
    "    return True\n",
    "\n",
    "\n",
    "def foo(n: int) -> list:\n",
    "    assert isinstance(n, int), f\"Incorrect input value, {n} of type {type(n)}\"\n",
    "    assert n >= 2, \"Incorrect input value, n must be more then 1\"\n",
    "    res = []\n",
    "    for i in range(2, n + 1):\n",
    "        if is_prime(i):\n",
    "            res.append(i)\n",
    "    return res\n"
   ]
  },
  {
   "cell_type": "markdown",
   "id": "865980ba",
   "metadata": {},
   "source": [
    "Задание 2.3"
   ]
  },
  {
   "cell_type": "code",
   "execution_count": null,
   "id": "9d6c2437",
   "metadata": {},
   "outputs": [],
   "source": [
    "import random\n",
    "\n",
    "random_num = random.randint(1, 100)\n",
    "count_try = 1\n",
    "try:\n",
    "    a = int(input())\n",
    "    while a != random_num:\n",
    "        print(f\"Попытка номер: {count_try}\")\n",
    "        if a > random_num:\n",
    "            print(\"Больше\")\n",
    "        else:\n",
    "            print(\"Меньше\")\n",
    "        count_try += 1\n",
    "        a = int(input())\n",
    "    print(f\"Вы угадали заданное число {random_num} за {count_try} попыток\")\n",
    "except ValueError as v:\n",
    "    print(v)"
   ]
  },
  {
   "cell_type": "markdown",
   "id": "134b27ac",
   "metadata": {},
   "source": [
    "Задание 2.4"
   ]
  },
  {
   "cell_type": "code",
   "execution_count": null,
   "id": "90cd1025",
   "metadata": {},
   "outputs": [],
   "source": [
    "def foo(text: str) -> dict:\n",
    "    assert isinstance(text, str), f\"Incorrect input value, {text} of type {type(text)}\"\n",
    "    res = {}\n",
    "    list_of_words = (\n",
    "        text.replace(\",\", \" \")\n",
    "        .replace(\".\", \" \")\n",
    "        .replace(\"?\", \" \")\n",
    "        .replace(\"!\", \" \")\n",
    "        .split()\n",
    "    )\n",
    "    res[\"Количество символов\"] = len(text)\n",
    "    res[\"Количество слов\"] = len(list_of_words)\n",
    "    res[\"Количество предложений\"] = len(\n",
    "        text.replace(\"?\", \".\").replace(\"!\", \".\").split(\".\")\n",
    "    )\n",
    "\n",
    "    word_counter = {}\n",
    "    for i in list_of_words:\n",
    "        if word_counter.get(i) is None:\n",
    "            word_counter[i] = 1\n",
    "        else:\n",
    "            word_counter[i] += 1\n",
    "    sorted_words = sorted(word_counter.items(), key=lambda x: x[1], reverse=True)\n",
    "    res[\"Самые частые слова\"] = sorted_words[:5]\n",
    "    return res"
   ]
  },
  {
   "cell_type": "markdown",
   "id": "bf860455",
   "metadata": {},
   "source": [
    "Задание 3.1"
   ]
  },
  {
   "cell_type": "code",
   "execution_count": null,
   "id": "bf14bf6e",
   "metadata": {},
   "outputs": [],
   "source": [
    "def foo(num1: int, num2: int, operation: str) -> float:\n",
    "    assert (\n",
    "        isinstance(num1, int) and isinstance(num2, int) and isinstance(operation, str)\n",
    "    ), \"Incorrect value of input\"\n",
    "    assert operation in [\"+\", \"-\", \"/\", \"*\"], \"Incorrect operation\"\n",
    "    try:\n",
    "        if operation == \"+\":\n",
    "            res = num1 + num2\n",
    "        elif operation == \"-\":\n",
    "            res = num1 - num2\n",
    "        elif operation == \"*\":\n",
    "            res = num1 * num2\n",
    "        else:\n",
    "            if num2 == 0:\n",
    "                raise ZeroDivisionError(\"Деление на ноль невозможно!\")\n",
    "            res = num1 / num2\n",
    "\n",
    "        return res\n",
    "\n",
    "    except ZeroDivisionError as e:\n",
    "        print(e)\n",
    "\n",
    "    finally:\n",
    "        print(\"Calculation finished\")"
   ]
  }
 ],
 "metadata": {
  "kernelspec": {
   "display_name": "Python 3",
   "language": "python",
   "name": "python3"
  },
  "language_info": {
   "codemirror_mode": {
    "name": "ipython",
    "version": 3
   },
   "file_extension": ".py",
   "mimetype": "text/x-python",
   "name": "python",
   "nbconvert_exporter": "python",
   "pygments_lexer": "ipython3",
   "version": "3.10.0"
  }
 },
 "nbformat": 4,
 "nbformat_minor": 5
}
