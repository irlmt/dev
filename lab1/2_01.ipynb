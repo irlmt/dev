{
 "cells": [
  {
   "cell_type": "markdown",
   "id": "37a5fac6",
   "metadata": {},
   "source": [
    "Задание 1"
   ]
  },
  {
   "cell_type": "code",
   "execution_count": null,
   "id": "4725ada7",
   "metadata": {},
   "outputs": [],
   "source": [
    "def check_conditions(a: bool, b: bool, c: bool) -> bool:\n",
    "    assert (\n",
    "        isinstance(a, bool) and isinstance(b, bool) and isinstance(c, bool)\n",
    "    ), \"Incorrect type\"\n",
    "    if a and b and c:\n",
    "        return True\n",
    "    elif (not a) and (not b) and (not c):\n",
    "        return False\n",
    "    elif a and (not b and not c) or b and (not a and not c) or c and (not a and not b):\n",
    "        return True\n",
    "    else:\n",
    "        return False\n"
   ]
  },
  {
   "cell_type": "markdown",
   "id": "9a7f873a",
   "metadata": {},
   "source": [
    "Задание 2"
   ]
  },
  {
   "cell_type": "code",
   "execution_count": null,
   "id": "69c75a9b",
   "metadata": {},
   "outputs": [],
   "source": [
    "from typing import Union, Tuple\n",
    "import math\n",
    "def calculate_quadratic_roots(\n",
    "    a: float, b: float, c: float\n",
    ") -> Union[Tuple[float, float], Tuple[complex, complex], None]:\n",
    "    assert (\n",
    "        isinstance(a, Union[int, float])\n",
    "        and isinstance(b, Union[int, float])\n",
    "        and isinstance(c, Union[int, float])\n",
    "    ), \"Incorrect type input value\"\n",
    "    if a == 0.0:\n",
    "        return None\n",
    "    D = b**2 - 4 * a * c\n",
    "    if D >= 0:\n",
    "        r1 = (-b + math.sqrt(D)) / (2 * a)\n",
    "        r2 = (-b - math.sqrt(D)) / (2 * a)\n",
    "        return (r1, r2)\n",
    "    else:\n",
    "        real_part = -b / (2 * a)\n",
    "        img_part = math.sqrt(-D) / (2 * a)\n",
    "        r1 = complex(real_part, img_part)\n",
    "        r2 = complex(real_part, -img_part)\n",
    "        return (r1, r2)"
   ]
  },
  {
   "cell_type": "markdown",
   "id": "6c0fcfae",
   "metadata": {},
   "source": [
    "Задание 3"
   ]
  },
  {
   "cell_type": "code",
   "execution_count": null,
   "id": "3af90b94",
   "metadata": {},
   "outputs": [],
   "source": [
    "from typing import List, Union, NamedTuple, Optional\n",
    "\n",
    "class SequenceStats(NamedTuple):\n",
    "    sum: float\n",
    "    average: float\n",
    "    minimum: float\n",
    "    maximum: float\n",
    "    count: int\n",
    "\n",
    "def analyze_sequence(numbers: List[Union[int, float]]) -> Optional[SequenceStats]:\n",
    "    assert isinstance(numbers, list), \"Incorrect type input value\"\n",
    "\n",
    "    assert all(\n",
    "        isinstance(x, (int, float)) for x in numbers\n",
    "    ), \"Incorrect type input value\"\n",
    "    if not numbers:\n",
    "        return None\n",
    "    return SequenceStats(\n",
    "        sum(numbers),\n",
    "        sum(numbers) / len(numbers),\n",
    "        min(numbers),\n",
    "        max(numbers),\n",
    "        len(numbers),\n",
    "    )"
   ]
  },
  {
   "cell_type": "markdown",
   "id": "360e10b6",
   "metadata": {},
   "source": [
    "Задание 4"
   ]
  },
  {
   "cell_type": "code",
   "execution_count": null,
   "id": "a9174ede",
   "metadata": {},
   "outputs": [],
   "source": [
    "def format_person_info(\n",
    "    name: Optional[str],\n",
    "    age: Optional[int],\n",
    "    profession: Optional[str],\n",
    "    salary: Optional[float],\n",
    ") -> str:\n",
    "    if name is None:\n",
    "        name = \"нет информации\"\n",
    "    if age is None:\n",
    "        age = \"нет информации\"\n",
    "    if profession is None:\n",
    "        profession = \"нет информации\"\n",
    "    if salary is None:\n",
    "        salary = \"нет информации\"\n",
    "    else:\n",
    "        salary = f\"{salary:.2f}\"\n",
    "    return f\"имя: {name}, возраст: {age}, профессия: {profession}, зарплата: {salary}\"\n",
    "\n"
   ]
  },
  {
   "cell_type": "markdown",
   "id": "6bd5bc43",
   "metadata": {},
   "source": [
    "Задание 5"
   ]
  },
  {
   "cell_type": "code",
   "execution_count": null,
   "id": "00ff61d2",
   "metadata": {},
   "outputs": [],
   "source": [
    "def process_data(student_data: List[str]) -> Dict[str, Any]:\n",
    "    assert isinstance(student_data, list), \"Incorrect input type value\"\n",
    "    d: Dict = {}\n",
    "    res: Dict = {\"best_student\": \"\", \"worst_student\": \"\", \"average\": 0}\n",
    "    for i in student_data:\n",
    "        s: List[str] = i.split(\",\")\n",
    "        if (len(s) - 2) <= 0:\n",
    "            continue\n",
    "        count_sum: float = 0.0\n",
    "        for j in range(2, len(s)):\n",
    "            count_sum += int(s[j])\n",
    "        d[s[0]] = count_sum / (len(s) - 2)\n",
    "    res[\"best_student\"] = max(d, key=d.get)\n",
    "    res[\"worst_student\"] = min(d, key=d.get)\n",
    "    res[\"average\"] = sum(d.values()) / len(d)\n",
    "    return res\n"
   ]
  }
 ],
 "metadata": {
  "kernelspec": {
   "display_name": "Python 3",
   "language": "python",
   "name": "python3"
  },
  "language_info": {
   "name": "python",
   "version": "3.10.0"
  }
 },
 "nbformat": 4,
 "nbformat_minor": 5
}
