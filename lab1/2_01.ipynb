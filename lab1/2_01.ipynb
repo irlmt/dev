{
 "cells": [
  {
   "cell_type": "markdown",
   "id": "37a5fac6",
   "metadata": {},
   "source": [
    "Задание 1"
   ]
  },
  {
   "cell_type": "code",
   "execution_count": null,
   "id": "4725ada7",
   "metadata": {
    "vscode": {
     "languageId": "plaintext"
    }
   },
   "outputs": [],
   "source": [
    "def check_conditions(a: bool, b: bool, c: bool) -> bool:\n",
    "    assert (\n",
    "        isinstance(a, bool) and isinstance(b, bool) and isinstance(c, bool)\n",
    "    ), \"Incorrect type\"\n",
    "    if a and b and c:\n",
    "        return True\n",
    "    elif (not a) and (not b) and (not c):\n",
    "        return False\n",
    "    elif a and (not b and not c) or b and (not a and not c) or c and (not a and not b):\n",
    "        return True\n",
    "    else:\n",
    "        return False\n"
   ]
  },
  {
   "cell_type": "markdown",
   "id": "9a7f873a",
   "metadata": {},
   "source": [
    "Задание 2"
   ]
  },
  {
   "cell_type": "code",
   "execution_count": null,
   "id": "69c75a9b",
   "metadata": {
    "vscode": {
     "languageId": "plaintext"
    }
   },
   "outputs": [],
   "source": []
  }
 ],
 "metadata": {
  "language_info": {
   "name": "python"
  }
 },
 "nbformat": 4,
 "nbformat_minor": 5
}
