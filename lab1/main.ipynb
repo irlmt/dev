{
 "cells": [
  {
   "cell_type": "markdown",
   "id": "479b9c4d",
   "metadata": {},
   "source": [
    "Задание 1.1"
   ]
  },
  {
   "cell_type": "code",
   "execution_count": 2,
   "id": "658d1992",
   "metadata": {},
   "outputs": [
    {
     "name": "stdout",
     "output_type": "stream",
     "text": [
      "Incorrect input value, mark must be between 0 and 100\n"
     ]
    }
   ],
   "source": [
    "def foo(mark: int) -> str:\n",
    "    assert isinstance(mark, int), f\"Incorrect input value, {mark} of type {type(mark)}\"\n",
    "    assert 0 <= mark <= 100, \"Incorrect input value, mark must be between 0 and 100\"\n",
    "    if 90 <= mark <= 100:\n",
    "        return \"A\"\n",
    "    elif 80 <= mark <= 89:\n",
    "        return \"B\"\n",
    "    elif 70 <= mark <= 79:\n",
    "        return \"C\"\n",
    "    elif 60 <= mark <= 69:\n",
    "        return \"D\"\n",
    "    else:\n",
    "        return \"F\"\n",
    "\n",
    "\n",
    "try:\n",
    "    a = int(input())\n",
    "    print(foo(a))\n",
    "\n",
    "except ValueError as v:\n",
    "    print(v)\n",
    "except AssertionError as e:\n",
    "    print(e)\n"
   ]
  },
  {
   "cell_type": "markdown",
   "id": "d2014976",
   "metadata": {},
   "source": [
    "Задание 1.2"
   ]
  },
  {
   "cell_type": "code",
   "execution_count": null,
   "id": "2a2573ea",
   "metadata": {},
   "outputs": [],
   "source": [
    "def foo(year: int) -> str:\n",
    "    assert isinstance(year, int), f\"Incorrect input value, {year} of type {type(year)}\"\n",
    "    assert year > 0, f\"Incorrect input value, year must be over 0\"\n",
    "    if (year % 4 == 0 and year % 100 != 0) or year % 400 == 0:\n",
    "        return \"YES\"\n",
    "    else:\n",
    "        return \"NO\"\n",
    "\n",
    "\n",
    "try:\n",
    "    a = int(input())\n",
    "    print(foo(a))\n",
    "\n",
    "except ValueError as v:\n",
    "    print(v)\n",
    "except AssertionError as e:\n",
    "    print(e)"
   ]
  },
  {
   "cell_type": "markdown",
   "id": "34533ea9",
   "metadata": {},
   "source": [
    "Задание 1.3"
   ]
  },
  {
   "cell_type": "code",
   "execution_count": null,
   "id": "c6c9c2f5",
   "metadata": {},
   "outputs": [],
   "source": [
    "def foo(a: int, b: int, c: int) -> str:\n",
    "    assert (\n",
    "        isinstance(a, int) and isinstance(b, int) and isinstance(c, int)\n",
    "    ), f\"Incorrect input value, {a}, {b}, {c} of type {type(a)}, {type(b)}, {type(c)}\"\n",
    "    assert (\n",
    "        a > 0 and b > 0 and c > 0\n",
    "    ), f\"Incorrect input value, sides length must be over 0\"\n",
    "    if a + b < c or a + c < b or b + c < a:\n",
    "        return \"Не является треугольником\"\n",
    "    elif a == b == c:\n",
    "        return \"Равносторонний\"\n",
    "    elif a == b or b == c or a == c:\n",
    "        return \"Равнобедренный\"\n",
    "    else:\n",
    "        return \"Разносторонний\"\n",
    "\n",
    "\n",
    "try:\n",
    "    n = input()\n",
    "    a, b, c = [int(i) for i in n.split()]\n",
    "\n",
    "    print(foo(a, b, c))\n",
    "\n",
    "except ValueError as v:\n",
    "    print(v)\n",
    "except AssertionError as e:\n",
    "    print(e)"
   ]
  }
 ],
 "metadata": {
  "kernelspec": {
   "display_name": "Python 3",
   "language": "python",
   "name": "python3"
  },
  "language_info": {
   "codemirror_mode": {
    "name": "ipython",
    "version": 3
   },
   "file_extension": ".py",
   "mimetype": "text/x-python",
   "name": "python",
   "nbconvert_exporter": "python",
   "pygments_lexer": "ipython3",
   "version": "3.10.0"
  }
 },
 "nbformat": 4,
 "nbformat_minor": 5
}
