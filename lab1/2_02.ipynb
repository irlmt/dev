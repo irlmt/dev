{
 "cells": [
  {
   "cell_type": "markdown",
   "id": "d56b0561",
   "metadata": {},
   "source": [
    "Задание 1"
   ]
  },
  {
   "cell_type": "code",
   "execution_count": null,
   "id": "0e1847b6",
   "metadata": {
    "vscode": {
     "languageId": "plaintext"
    }
   },
   "outputs": [],
   "source": [
    "from collections import namedtuple, defaultdict, deque, Counter, OrderedDict\n",
    "import json, pickle\n",
    "\n",
    "Book = namedtuple(\"Book\", [\"title\", \"author\", \"isbn\", \"year\"])\n",
    "Reader = namedtuple(\"Reader\", [\"name\", \"reader_id\", \"phone\"])\n",
    "\n",
    "list_of_books = [\n",
    "    Book(title=\"abc\", author=\"111\", isbn=1, year=2025),\n",
    "    Book(title=\"bcd\", author=\"222\", isbn=2, year=2021),\n",
    "    Book(title=\"cde\", author=\"111\", isbn=3, year=1234),\n",
    "    Book(title=\"abc\", author=\"333\", isbn=4, year=5555),\n",
    "]\n",
    "books_by_genre = defaultdict(list)\n",
    "books_by_genre[\"genre1\"].append(list_of_books[0])\n",
    "books_by_genre[\"genre2\"].append(list_of_books[1])\n",
    "books_by_genre[\"genre3\"].append(list_of_books[2])\n",
    "books_by_genre[\"genre2\"].append(list_of_books[3])\n",
    "deque_of_readers = deque()\n",
    "deque_of_readers.append(Reader(name=\"r1\", reader_id=1, phone=789))\n",
    "deque_of_readers.append(Reader(name=\"r2\", reader_id=11, phone=000))\n",
    "deque_of_readers.append(Reader(name=\"r5\", reader_id=5, phone=23))\n",
    "my_counter: Counter = Counter([i.author for i in list_of_books])\n",
    "my_ordered_dict: OrderedDict = OrderedDict.fromkeys(deque_of_readers)\n",
    "my_ordered_dict[Reader(name=\"r1\", reader_id=1, phone=789)] = list_of_books[0]\n",
    "my_ordered_dict[Reader(name=\"r5\", reader_id=5, phone=23)] = list_of_books[3]\n",
    "\n",
    "\n",
    "with open(\"task_1.json\", \"w\") as file:\n",
    "    json.dump(\"list of books: \" + str(list_of_books), file)\n",
    "    json.dump(\"deque of reader: \" + str(deque_of_readers), file)\n",
    "    json.dump(\"counter of authors: \" + str(my_counter), file)\n",
    "    json.dump(\"ordered dict: \" + str(my_ordered_dict), file)\n",
    "with open(\"task_1.pickle\", \"wb\") as file:\n",
    "    pickle.dump(\"list of books: \" + str(list_of_books), file)\n",
    "    pickle.dump(\"deque of reader: \" + str(deque_of_readers), file)\n",
    "    pickle.dump(\"counter of authors: \" + str(my_counter), file)\n",
    "    pickle.dump(\"ordered dict: \" + str(my_ordered_dict), file)"
   ]
  },
  {
   "cell_type": "markdown",
   "id": "edf3b235",
   "metadata": {},
   "source": [
    "Задание 2"
   ]
  },
  {
   "cell_type": "code",
   "execution_count": null,
   "id": "aceed60e",
   "metadata": {
    "vscode": {
     "languageId": "plaintext"
    }
   },
   "outputs": [],
   "source": [
    "from collections import namedtuple, defaultdict, deque, Counter\n",
    "import json, os, sys\n",
    "from datetime import datetime\n",
    "\n",
    "FileInfo = namedtuple(\"FileInfo\", [\"name\", \"size\", \"extension\", \"modified_time\"])\n",
    "\n",
    "files_by_size = defaultdict(list)\n",
    "files_list = []\n",
    "last_ten_files = deque(maxlen=10)\n",
    "\n",
    "counter_files_extentions: Counter = Counter()\n",
    "\n",
    "for root, dirs, files in os.walk(\".\"):\n",
    "    for file in files:\n",
    "        file_path = os.path.join(root, file)\n",
    "\n",
    "        try:\n",
    "            size = sys.getsizeof(file_path)\n",
    "            mtime = os.path.getmtime(file_path)\n",
    "            modified_time = datetime.fromtimestamp(mtime).strftime(\"%Y-%m-%d %H:%M:%S\")\n",
    "            name, extension = os.path.splitext(file)\n",
    "            if not extension:\n",
    "                extension = \"no_extension\"\n",
    "\n",
    "            file_info = FileInfo(\n",
    "                name=file, size=size, extension=extension, modified_time=modified_time\n",
    "            )\n",
    "            files_list.append(file_info)\n",
    "\n",
    "            counter_files_extentions[extension] += 1\n",
    "\n",
    "            if size < 1024 * 1024:\n",
    "                files_by_size[\"small\"].append(file_info)\n",
    "            elif size <= 100 * 1024 * 1024:\n",
    "                files_by_size[\"medium\"].append(file_info)\n",
    "            else:\n",
    "                files_by_size[\"large\"].append(file_info)\n",
    "\n",
    "            last_ten_files.append(file_info)\n",
    "\n",
    "        except (OSError, PermissionError):\n",
    "            continue\n",
    "with open(\"task_2.json\", \"w\") as file:\n",
    "    json.dump(\"list of files: \" + str(files_list), file)\n",
    "    json.dump(\"count ext: \" + str(counter_files_extentions), file)\n",
    "    json.dump(\"size groups: \" + str(files_by_size), file)\n",
    "    json.dump(\"last_10_files: \" + str(last_ten_files), file)\n"
   ]
  },
  {
   "cell_type": "code",
   "execution_count": null,
   "id": "0efe2c32",
   "metadata": {
    "vscode": {
     "languageId": "plaintext"
    }
   },
   "outputs": [],
   "source": [
    "Задание 3"
   ]
  },
  {
   "cell_type": "code",
   "execution_count": null,
   "id": "9cb4ac8a",
   "metadata": {
    "vscode": {
     "languageId": "plaintext"
    }
   },
   "outputs": [],
   "source": [
    "from collections import namedtuple, defaultdict, ChainMap, OrderedDict\n",
    "import os, json, pickle\n",
    "\n",
    "Config = namedtuple(\"Config\", [\"key\", \"value\", \"section\", \"default_value\"])\n",
    "default = defaultdict(list)\n",
    "default[\"database.host\"].append(\"localhost\")\n",
    "default[\"database.port\"].append(5432)\n",
    "default[\"app.debug\"].append(False)\n",
    "default[\"app.timeout\"].append(30)\n",
    "default[\"logging.level\"].append(\"INFO\")\n",
    "\n",
    "user = defaultdict(list)\n",
    "user[\"database.host\"].append(\"127.0.0.1\")\n",
    "user[\"app.debug\"].append(True)\n",
    "user[\"user.name\"].append(\"admin\")\n",
    "environment = defaultdict()\n",
    "for key, value in os.environ.items():\n",
    "    if key.startswith(\"APP_\"):\n",
    "        environment[key[4:].lower()] = value\n",
    "prioritized_chain = ChainMap(default, user, environment)\n",
    "\n",
    "\n",
    "grouped_config = defaultdict(dict)\n",
    "\n",
    "for full_key in prioritized_chain:\n",
    "    value = prioritized_chain[full_key]\n",
    "\n",
    "    if \".\" in full_key:\n",
    "        section, key = full_key.split(\".\", 1)\n",
    "    else:\n",
    "        section = \"general\"\n",
    "        key = full_key\n",
    "\n",
    "    grouped_config[section][key] = value\n",
    "\n",
    "ordered_config = OrderedDict()\n",
    "ordered_config[\"environment\"] = dict(environment)\n",
    "ordered_config[\"user\"] = dict(user)\n",
    "ordered_config[\"default\"] = dict(default)\n",
    "\n",
    "with open(\"task_3.json\", \"w\") as file:\n",
    "    json.dump(\"default: \" + str(default), file)\n",
    "    json.dump(\"user: \" + str(user), file)\n",
    "    json.dump(\"environment: \" + str(environment), file)\n",
    "    json.dump(\"proritized_chain: \" + str(prioritized_chain), file)\n",
    "    json.dump(\"grouped_config: \" + str(grouped_config), file)\n",
    "    json.dump(\"ordered_config: \" + str(ordered_config), file)\n",
    "with open(\"task_3.pickle\", \"wb\") as file:\n",
    "    pickle.dump(\"default: \" + str(default), file)\n",
    "    pickle.dump(\"user: \" + str(user), file)\n",
    "    pickle.dump(\"environment: \" + str(environment), file)\n",
    "    pickle.dump(\"proritized_chain: \" + str(prioritized_chain), file)\n",
    "    pickle.dump(\"grouped_config: \" + str(grouped_config), file)\n",
    "    pickle.dump(\"ordered_config: \" + str(ordered_config), file)\n"
   ]
  }
 ],
 "metadata": {
  "language_info": {
   "name": "python"
  }
 },
 "nbformat": 4,
 "nbformat_minor": 5
}
