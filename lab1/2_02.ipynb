{
 "cells": [
  {
   "cell_type": "markdown",
   "id": "d56b0561",
   "metadata": {},
   "source": [
    "Задание 1"
   ]
  },
  {
   "cell_type": "code",
   "execution_count": null,
   "id": "0e1847b6",
   "metadata": {
    "vscode": {
     "languageId": "plaintext"
    }
   },
   "outputs": [],
   "source": [
    "from collections import namedtuple, defaultdict, deque, Counter, OrderedDict\n",
    "import json, pickle\n",
    "\n",
    "Book = namedtuple(\"Book\", [\"title\", \"author\", \"isbn\", \"year\"])\n",
    "Reader = namedtuple(\"Reader\", [\"name\", \"reader_id\", \"phone\"])\n",
    "\n",
    "list_of_books = [\n",
    "    Book(title=\"abc\", author=\"111\", isbn=1, year=2025),\n",
    "    Book(title=\"bcd\", author=\"222\", isbn=2, year=2021),\n",
    "    Book(title=\"cde\", author=\"111\", isbn=3, year=1234),\n",
    "    Book(title=\"abc\", author=\"333\", isbn=4, year=5555),\n",
    "]\n",
    "books_by_genre = defaultdict(list)\n",
    "books_by_genre[\"genre1\"].append(list_of_books[0])\n",
    "books_by_genre[\"genre2\"].append(list_of_books[1])\n",
    "books_by_genre[\"genre3\"].append(list_of_books[2])\n",
    "books_by_genre[\"genre2\"].append(list_of_books[3])\n",
    "deque_of_readers = deque()\n",
    "deque_of_readers.append(Reader(name=\"r1\", reader_id=1, phone=789))\n",
    "deque_of_readers.append(Reader(name=\"r2\", reader_id=11, phone=000))\n",
    "deque_of_readers.append(Reader(name=\"r5\", reader_id=5, phone=23))\n",
    "my_counter: Counter = Counter([i.author for i in list_of_books])\n",
    "my_ordered_dict: OrderedDict = OrderedDict.fromkeys(deque_of_readers)\n",
    "my_ordered_dict[Reader(name=\"r1\", reader_id=1, phone=789)] = list_of_books[0]\n",
    "my_ordered_dict[Reader(name=\"r5\", reader_id=5, phone=23)] = list_of_books[3]\n",
    "\n",
    "\n",
    "with open(\"task_1.json\", \"w\") as file:\n",
    "    json.dump(\"list of books: \" + str(list_of_books), file)\n",
    "    json.dump(\"deque of reader: \" + str(deque_of_readers), file)\n",
    "    json.dump(\"counter of authors: \" + str(my_counter), file)\n",
    "    json.dump(\"ordered dict: \" + str(my_ordered_dict), file)\n",
    "with open(\"task_1.pickle\", \"wb\") as file:\n",
    "    pickle.dump(\"list of books: \" + str(list_of_books), file)\n",
    "    pickle.dump(\"deque of reader: \" + str(deque_of_readers), file)\n",
    "    pickle.dump(\"counter of authors: \" + str(my_counter), file)\n",
    "    pickle.dump(\"ordered dict: \" + str(my_ordered_dict), file)"
   ]
  },
  {
   "cell_type": "markdown",
   "id": "edf3b235",
   "metadata": {},
   "source": [
    "Задание 2"
   ]
  },
  {
   "cell_type": "code",
   "execution_count": null,
   "id": "aceed60e",
   "metadata": {
    "vscode": {
     "languageId": "plaintext"
    }
   },
   "outputs": [],
   "source": []
  }
 ],
 "metadata": {
  "language_info": {
   "name": "python"
  }
 },
 "nbformat": 4,
 "nbformat_minor": 5
}
